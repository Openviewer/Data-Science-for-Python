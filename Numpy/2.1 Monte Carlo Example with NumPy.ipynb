{
 "cells": [
  {
   "cell_type": "markdown",
   "metadata": {},
   "source": [
    "# Monte Carlo Simulation Example with NumPy\n",
    "Based on a problem defined by Anthony Sun (http://www.geocities.com/WallStreet/9245/vba12.htm used originally with permission.  The link is no longer live, but I include it for completeness.\n",
    "\n",
    "A firm is considering producing and selling a new product under a pure/perfect competition market and the firm wants to know the probability distribution for the profit associated with this product.  The total profit is given by the equation:\n",
    "\n",
    "$TP=(Q \\times P)-(Q \\times V+F)$\n",
    "\n",
    "where $TP$ is the total profit, $Q$ is the quantity sold, $P$ is the selling price, $V$ is the variable cost, and $F$ is the fixed cost.  Since the firm is *predicting* what will happen if they produce the product, some of the profit components are uncertain.  In particular, $Q$, $P$, and $V$ are estimated to be *random variables* with the following distributions:\n",
    "\n",
    "  * $Q$: uniform(8000, 12000)\n",
    "  * $P$: normal(10, 3)\n",
    "  * $V$: normal(7, 2)\n",
    "\n",
    "$F$ is fixed at 5000.\n",
    "\n",
    "The goal is to use Monte Carlo simulation to estimate various descriptive statistics about the total profit associated with the product (if the project were undertaken) and to ultimately proivde information to aid a decision-maker in deciding whether or not to pursue the project."
   ]
  },
  {
   "cell_type": "markdown",
   "metadata": {},
   "source": [
    "## Some Initial Setup"
   ]
  },
  {
   "cell_type": "code",
   "execution_count": 1,
   "metadata": {},
   "outputs": [],
   "source": [
    "%matplotlib inline\n",
    "import numpy as np\n",
    "import random\n",
    "import matplotlib.pyplot as plt\n",
    "\n",
    "#\n",
    "# Define a function to plot a histogram of the observations\n",
    "#\n",
    "def hplot(tps, NumBins = 20) :\n",
    "    # create histogram\n",
    "    plt.hist(tps, bins=NumBins)\n",
    "    # yellow line at the sample mean\n",
    "    plt.axvline(AvgTP, color='y', linestyle='solid', linewidth=4)\n",
    "    # red line at 0\n",
    "    plt.axvline(0, color='r', linestyle='solid', linewidth=2)\n",
    "    plt.show()"
   ]
  },
  {
   "cell_type": "markdown",
   "metadata": {},
   "source": [
    "## Standard Loop-based Version"
   ]
  },
  {
   "cell_type": "code",
   "execution_count": 2,
   "metadata": {},
   "outputs": [],
   "source": [
    "#\n",
    "# Define a function to sample an observation (one replication)\n",
    "#\n",
    "def sample() :\n",
    "    q = random.uniform(8000,12000)\n",
    "    v = random.normalvariate(7,2)\n",
    "    p = random.normalvariate(10,3)\n",
    "    return (q*(p-v)-5000)\n",
    "\n",
    "Replications = 500000\n",
    "tps = []\n",
    "\n",
    "# Loop\n",
    "for i in range (Replications) :\n",
    "    # sample the value\n",
    "    tp = sample()\n",
    "    # Accumulate for the average\n",
    "    tps.append(tp);\n",
    "# compute average\n",
    "AvgTP = float(sum(tps))/Replications"
   ]
  },
  {
   "cell_type": "code",
   "execution_count": 3,
   "metadata": {},
   "outputs": [
    {
     "name": "stdout",
     "output_type": "stream",
     "text": [
      "\n",
      "Based on 500,000 replications:\n",
      "\tAverage : 25,023.53\n",
      "\tRange   : (-144,642.24, 219,745.94)\n",
      "\tpr(<0)  : 0.2447\n"
     ]
    },
    {
     "data": {
      "image/png": "[encoded data removed]",
      "text/plain": [
       "<Figure size 432x288 with 1 Axes>"
      ]
     },
     "metadata": {
      "needs_background": "light"
     },
     "output_type": "display_data"
    }
   ],
   "source": [
    "# show solution\n",
    "print (\"\\nBased on {:,d} replications:\".format(Replications))\n",
    "print (\"\\tAverage : {:,.2f}\".format(AvgTP))\n",
    "print (\"\\tRange   : ({:,.2f}, {:,.2f})\".format(min(tps), max(tps)))\n",
    "print (\"\\tpr(<0)  : {:.4f}\".format(float(len([v for v in tps if v < 0]))/Replications))\n",
    "hplot(tps)"
   ]
  },
  {
   "cell_type": "markdown",
   "metadata": {},
   "source": [
    "## Simple Vector Version Using NumPy"
   ]
  },
  {
   "cell_type": "code",
   "execution_count": 4,
   "metadata": {},
   "outputs": [],
   "source": [
    "# Simple vector version using NumPy\n",
    "# Specify the number of observations/replications to perform\n",
    "obs = 500000\n",
    "# generate the input vectors\n",
    "price = np.random.normal(10, 3, obs)\n",
    "marginal = np.random.normal(7, 2, obs)\n",
    "demand = np.random.uniform(8000, 12000, obs)\n",
    "# compute the expected profit for each replication (using vector operations)\n",
    "tp = demand * (price - marginal) - 5000\n",
    "# compute average\n",
    "AvgTP = float(sum(tp))/obs"
   ]
  },
  {
   "cell_type": "code",
   "execution_count": 5,
   "metadata": {},
   "outputs": [
    {
     "name": "stdout",
     "output_type": "stream",
     "text": [
      "          Expected profit: $ 24,911.21\n",
      "                Std. Dev.: $ 36,450.02\n",
      "          25th Percentile: $    564.22\n",
      "          75th Percentile: $ 48,872.78\n",
      "     Prob. of losing money: 0.245\n",
      "Prob. of making > $100,000: 0.022\n"
     ]
    },
    {
     "data": {
      "image/png": "[encoded data removed]",
      "text/plain": [
       "<Figure size 432x288 with 1 Axes>"
      ]
     },
     "metadata": {
      "needs_background": "light"
     },
     "output_type": "display_data"
    }
   ],
   "source": [
    "# basic display of results\n",
    "# Descriptive Statistics\n",
    "print(\"          Expected profit: ${:10,.2f}\".format(tp.mean()))\n",
    "print(\"                Std. Dev.: ${:10,.2f}\".format(tp.std()))\n",
    "print(\"          25th Percentile: ${:10,.2f}\".format(np.percentile(tp, 25)))\n",
    "print(\"          75th Percentile: ${:10,.2f}\".format(np.percentile(tp, 75)))\n",
    "print(\"     Prob. of losing money: {:.3f}\".format(np.sum(tp < 0)/obs))\n",
    "print(\"Prob. of making > $100,000: {:.3f}\".format(np.sum(tp > 100000)/obs))\n",
    "# histogram\n",
    "hplot(tp)"
   ]
  },
  {
   "cell_type": "markdown",
   "metadata": {},
   "source": [
    "## Aggregate the Individual Arrays into a Single Experiment\n",
    "\n",
    "This will give you a single matrix with rows representing replications and columns presenting the random variable observations."
   ]
  },
  {
   "cell_type": "code",
   "execution_count": 6,
   "metadata": {},
   "outputs": [
    {
     "data": {
      "text/plain": [
       "((500000, 1), (500000, 1), (500000, 1), (500000, 1))"
      ]
     },
     "execution_count": 6,
     "metadata": {},
     "output_type": "execute_result"
    }
   ],
   "source": [
    "# Create 4 single-column arrays from the individual arrays\n",
    "p = price.reshape(obs,1)\n",
    "m = marginal.reshape(obs,1)\n",
    "d = demand.reshape(obs,1)\n",
    "pr = tp.reshape(obs,1)\n",
    "p.shape, m.shape, d.shape, pr.shape"
   ]
  },
  {
   "cell_type": "code",
   "execution_count": 7,
   "metadata": {},
   "outputs": [],
   "source": [
    "# Create 4 single-column arrays - A different way to do the reshape operation\n",
    "#p = price[:,np.newaxis]\n",
    "#m = marginal[:, np.newaxis]\n",
    "#d = demand[:, np.newaxis]\n",
    "#pr = tp[:, np.newaxis]\n",
    "#p.shape, m.shape, d.shape, pr.shape"
   ]
  },
  {
   "cell_type": "code",
   "execution_count": 8,
   "metadata": {},
   "outputs": [
    {
     "data": {
      "text/plain": [
       "(500000, 4)"
      ]
     },
     "execution_count": 8,
     "metadata": {},
     "output_type": "execute_result"
    }
   ],
   "source": [
    "# Concatenate the four into a matrix -- each row represents a replication\n",
    "a = np.concatenate([p, m, d, pr], axis=1)\n",
    "a.shape"
   ]
  },
  {
   "cell_type": "code",
   "execution_count": 9,
   "metadata": {},
   "outputs": [
    {
     "data": {
      "text/plain": [
       "array([9.99363562e+00, 7.00165417e+00, 1.00004556e+04, 2.49112106e+04])"
      ]
     },
     "execution_count": 9,
     "metadata": {},
     "output_type": "execute_result"
    }
   ],
   "source": [
    "# mean of each random variable\n",
    "a.mean(axis=0)"
   ]
  },
  {
   "cell_type": "code",
   "execution_count": null,
   "metadata": {},
   "outputs": [],
   "source": []
  }
 ],
 "metadata": {
  "kernelspec": {
   "display_name": "Python 3",
   "language": "python",
   "name": "python3"
  },
  "language_info": {
   "codemirror_mode": {
    "name": "ipython",
    "version": 3
   },
   "file_extension": ".py",
   "mimetype": "text/x-python",
   "name": "python",
   "nbconvert_exporter": "python",
   "pygments_lexer": "ipython3",
   "version": "3.7.6"
  }
 },
 "nbformat": 4,
 "nbformat_minor": 2
}
